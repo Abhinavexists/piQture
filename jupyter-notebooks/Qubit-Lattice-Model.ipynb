{
 "cells": [
  {
   "cell_type": "markdown",
   "id": "0e39a830",
   "metadata": {},
   "source": [
    "# Qubit Lattice Model\n",
    "\n",
    "This notebook discusses and implements the very first image representation technique, called the Qubit Lattice model. The qubit lattice model [[1]](https://doi.org/10.1117/12.485960) was first proposed in 2005 by Venegas-Andraca et al. as an image representation technique for quanutm computers. This model is basic and is similar to the classical method of image representation.\n",
    "\n",
    "The model stores images in form of matrices where each qubuit stores one pixel of the image. As a result, the model does not make use of either superposition or entanglement.\n",
    "\n",
    "The color information of a pixel is stored in the parameter (theta) of the amplitude. Given below is the quantum state produced as an initialization after storing the color information on a qubit.\n",
    "$$|\\phi\\rangle = \\cos \\frac{\\theta}{2} |0\\rangle + e^{i\\gamma} \\sin \\frac{\\theta}{2} |1\\rangle$$\n",
    "\n",
    "Here, since the values of $\\theta$ are continuous, new color information within a given domain can be recorded easily without the need to change or adjust the storage/embedding protocol. This is unlike the classical color encoding techniques where number of bits to store color information need to be adjusted after a limit/storage capacity is reached [[1]](https://doi.org/10.1117/12.485960)."
   ]
  },
  {
   "cell_type": "code",
   "execution_count": 1,
   "id": "1953f445",
   "metadata": {},
   "outputs": [],
   "source": [
    "# Imports\n",
    "from qiskit import Aer, execute\n",
    "from qiskit.circuit import QuantumCircuit, QuantumRegister, ClassicalRegister\n",
    "from qiskit.visualization import plot_histogram"
   ]
  },
  {
   "cell_type": "code",
   "execution_count": 4,
   "id": "aa2b234d",
   "metadata": {},
   "outputs": [],
   "source": [
    "# Embedding the color information in amplitude parameters (theta)\n",
    "\n",
    "def color_encoding():\n",
    "    \n",
    "    qr = QuantumRegister()\n",
    "    circ = QuantumCircuit(qr)\n",
    "    \n",
    "def qubit_lattice_model(num_pixel):\n",
    "    \n",
    "    qr = QuantumRegister(num_pixel)\n",
    "    circ = QuantumCircuit(qr)\n",
    "    \n",
    "    for i in range(num_pixel):\n",
    "        circ.h(i)\n",
    "        \n",
    "    return circ"
   ]
  },
  {
   "cell_type": "code",
   "execution_count": 6,
   "id": "0a22648a",
   "metadata": {},
   "outputs": [
    {
     "data": {
      "image/png": "[encoded data removed]",
      "text/plain": [
       "<Figure size 159.923x144.48 with 1 Axes>"
      ]
     },
     "execution_count": 6,
     "metadata": {},
     "output_type": "execute_result"
    }
   ],
   "source": [
    "circ = qubit_lattice_model(2)\n",
    "circ.draw('mpl')"
   ]
  },
  {
   "cell_type": "code",
   "execution_count": null,
   "id": "d1ceaaa4",
   "metadata": {},
   "outputs": [],
   "source": []
  },
  {
   "cell_type": "code",
   "execution_count": null,
   "id": "93a5de21",
   "metadata": {},
   "outputs": [],
   "source": []
  },
  {
   "cell_type": "markdown",
   "id": "09575376",
   "metadata": {},
   "source": [
    "# End Notes\n",
    "\n",
    "Following are few questions that still need to be addressed.\n",
    "\n",
    "1. What happens if we also try to encode the $\\gamma$ in the amplitude? What can be encoded in here?"
   ]
  }
 ],
 "metadata": {
  "kernelspec": {
   "display_name": "Python 3 (ipykernel)",
   "language": "python",
   "name": "python3"
  },
  "language_info": {
   "codemirror_mode": {
    "name": "ipython",
    "version": 3
   },
   "file_extension": ".py",
   "mimetype": "text/x-python",
   "name": "python",
   "nbconvert_exporter": "python",
   "pygments_lexer": "ipython3",
   "version": "3.9.7"
  }
 },
 "nbformat": 4,
 "nbformat_minor": 5
}
